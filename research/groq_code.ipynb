{
 "cells": [
  {
   "cell_type": "code",
   "execution_count": 1,
   "metadata": {},
   "outputs": [],
   "source": [
    "from langchain import PromptTemplate\n",
    "from langchain.embeddings import HuggingFaceEmbeddings\n",
    "from langchain_pinecone import PineconeVectorStore\n",
    "from langchain.document_loaders import PyPDFLoader, DirectoryLoader\n",
    "from langchain.text_splitter import RecursiveCharacterTextSplitter\n",
    "import os\n",
    "from langchain_groq import ChatGroq\n",
    "from dotenv import load_dotenv"
   ]
  },
  {
   "cell_type": "code",
   "execution_count": 2,
   "metadata": {},
   "outputs": [
    {
     "data": {
      "text/plain": [
       "True"
      ]
     },
     "execution_count": 2,
     "metadata": {},
     "output_type": "execute_result"
    }
   ],
   "source": [
    "load_dotenv()"
   ]
  },
  {
   "cell_type": "markdown",
   "metadata": {},
   "source": [
    "# Extract data from pdf"
   ]
  },
  {
   "cell_type": "code",
   "execution_count": 3,
   "metadata": {},
   "outputs": [],
   "source": [
    "def load_pdf(data):\n",
    "    loader = DirectoryLoader(data,glob='*.pdf',loader_cls=PyPDFLoader)\n",
    "    documents = loader.load()\n",
    "    return documents"
   ]
  },
  {
   "cell_type": "code",
   "execution_count": null,
   "metadata": {},
   "outputs": [],
   "source": [
    "extracted_text = load_pdf('../data/')"
   ]
  },
  {
   "cell_type": "markdown",
   "metadata": {},
   "source": [
    "# Create chunks"
   ]
  },
  {
   "cell_type": "code",
   "execution_count": 5,
   "metadata": {},
   "outputs": [],
   "source": [
    "def text_split(extracted_text):\n",
    "    text_splitter = RecursiveCharacterTextSplitter(chunk_size=500,chunk_overlap=20)\n",
    "    text_chunks = text_splitter.split_documents(extracted_text)\n",
    "    return text_chunks"
   ]
  },
  {
   "cell_type": "code",
   "execution_count": 6,
   "metadata": {},
   "outputs": [],
   "source": [
    "text_chunks = text_split(extracted_text)"
   ]
  },
  {
   "cell_type": "code",
   "execution_count": 7,
   "metadata": {},
   "outputs": [
    {
     "data": {
      "text/plain": [
       "7020"
      ]
     },
     "execution_count": 7,
     "metadata": {},
     "output_type": "execute_result"
    }
   ],
   "source": [
    "len(text_chunks)"
   ]
  },
  {
   "cell_type": "markdown",
   "metadata": {},
   "source": [
    "# Download Embeddings"
   ]
  },
  {
   "cell_type": "code",
   "execution_count": 5,
   "metadata": {},
   "outputs": [],
   "source": [
    "def download_hugging_face_embeddings():\n",
    "    embeddings = HuggingFaceEmbeddings(model_name='sentence-transformers/all-MiniLM-L6-v2')\n",
    "    return embeddings"
   ]
  },
  {
   "cell_type": "code",
   "execution_count": 6,
   "metadata": {},
   "outputs": [],
   "source": [
    "embeddings = download_hugging_face_embeddings()"
   ]
  },
  {
   "cell_type": "code",
   "execution_count": 5,
   "metadata": {},
   "outputs": [
    {
     "data": {
      "text/plain": [
       "HuggingFaceEmbeddings(client=SentenceTransformer(\n",
       "  (0): Transformer({'max_seq_length': 256, 'do_lower_case': False}) with Transformer model: BertModel \n",
       "  (1): Pooling({'word_embedding_dimension': 384, 'pooling_mode_cls_token': False, 'pooling_mode_mean_tokens': True, 'pooling_mode_max_tokens': False, 'pooling_mode_mean_sqrt_len_tokens': False})\n",
       "  (2): Normalize()\n",
       "), model_name='sentence-transformers/all-MiniLM-L6-v2', cache_folder=None, model_kwargs={}, encode_kwargs={}, multi_process=False, show_progress=False)"
      ]
     },
     "execution_count": 5,
     "metadata": {},
     "output_type": "execute_result"
    }
   ],
   "source": [
    "embeddings"
   ]
  },
  {
   "cell_type": "markdown",
   "metadata": {},
   "source": [
    "# Query result"
   ]
  },
  {
   "cell_type": "code",
   "execution_count": 7,
   "metadata": {},
   "outputs": [],
   "source": [
    "vectorstore = PineconeVectorStore(index='mchatbot', pinecone_api_key= os.getenv(\"PINECONE_API_KEY\") ,embedding=embeddings)"
   ]
  },
  {
   "cell_type": "code",
   "execution_count": 93,
   "metadata": {},
   "outputs": [],
   "source": [
    "docsearch = vectorstore.from_texts(texts=[t.page_content for t in text_chunks],embedding=embeddings,index_name='mchatbot')"
   ]
  },
  {
   "cell_type": "markdown",
   "metadata": {},
   "source": [
    "# Load from existing vector database"
   ]
  },
  {
   "cell_type": "code",
   "execution_count": 7,
   "metadata": {},
   "outputs": [],
   "source": [
    "docsearch = PineconeVectorStore.from_existing_index(index_name=\"mchatbot\",embedding=embeddings)"
   ]
  },
  {
   "cell_type": "code",
   "execution_count": 8,
   "metadata": {},
   "outputs": [],
   "source": [
    "query=\"Medicine for cough\"\n",
    "docs = docsearch.similarity_search(query,k=3)"
   ]
  },
  {
   "cell_type": "code",
   "execution_count": 9,
   "metadata": {},
   "outputs": [
    {
     "data": {
      "text/plain": [
       "[Document(page_content='sants, do not stop the cough. Instead they are used to thinthe mucus in the lungs, making it easier to cough up. Thistype of cough medicine may be helpful to individuals suf-fering from bronchitis. People who are unsure about whatKEY TERMS\\nAcute —Disease or condition characterized by the\\nrapid onset of severe symptoms.\\nBronchi —The larger air tubes of the lung that\\nbring air in from the trachea.\\nChronic —Disease or condition characterized by\\nslow onset over a long period of time.'),\n",
       " Document(page_content='Home care includes drinking plenty of fluids, resting, notsmoking, increasing moisture in the air with a cool misthumidifier, and taking acetaminophen (Datril, Tylenol,\\nPanadol) for fever and pain . Aspirin should not be given\\nto children because of its association with the serious ill-ness, Reye’s syndrome .\\nCough suppressants are used only when the cough'),\n",
       " Document(page_content='serious if it progresses to pneumonia, therefore, antibi-otics may be required. In addition, however, there are amultitude of botanical and herbal medicines that can beformulated to treat bronchitis. Some examples includeinhaling eucalyptus or other essential oils in warm steam.Herbalists recommend a tea made of mullein ( Verbascum\\nthapsus ), coltsfoot ( Tussilago farfara ), and anise seed\\n(Pimpinella anisum ). Homeopathic medicine and tradi-\\ntional Chinese medicine may also be very useful for')]"
      ]
     },
     "execution_count": 9,
     "metadata": {},
     "output_type": "execute_result"
    }
   ],
   "source": [
    "# type(docs[0])\n",
    "docs"
   ]
  },
  {
   "cell_type": "code",
   "execution_count": 10,
   "metadata": {},
   "outputs": [],
   "source": [
    "prompt_template = \"\"\"\n",
    "Use the following pieces of information to answer user's question.\n",
    "If you don't know the answer, just say that you don't know, don't try to make up an answer.\n",
    "\n",
    "Context: \n",
    "<context>\n",
    "{context}\n",
    "</context>\n",
    "Question: {input}\n",
    "\n",
    "Only return the helpful answer below and nothing else.\n",
    "Helpful answer:\n",
    "\"\"\""
   ]
  },
  {
   "cell_type": "code",
   "execution_count": 11,
   "metadata": {},
   "outputs": [],
   "source": [
    "groq_api_key = os.environ['GROQ_API_KEY']\n",
    "llm = ChatGroq(groq_api_key=groq_api_key, model='mixtral-8x7b-32768')"
   ]
  },
  {
   "cell_type": "code",
   "execution_count": 12,
   "metadata": {},
   "outputs": [],
   "source": [
    "from langchain_core.prompts import ChatPromptTemplate\n",
    "prompt = ChatPromptTemplate.from_template(prompt_template)"
   ]
  },
  {
   "cell_type": "code",
   "execution_count": 13,
   "metadata": {},
   "outputs": [],
   "source": [
    "from langchain.chains.combine_documents.stuff import create_stuff_documents_chain"
   ]
  },
  {
   "cell_type": "code",
   "execution_count": 14,
   "metadata": {},
   "outputs": [],
   "source": [
    "document_chain = create_stuff_documents_chain(llm,prompt)"
   ]
  },
  {
   "cell_type": "code",
   "execution_count": 15,
   "metadata": {},
   "outputs": [],
   "source": [
    "retriever = docsearch.as_retriever()"
   ]
  },
  {
   "cell_type": "code",
   "execution_count": 16,
   "metadata": {},
   "outputs": [],
   "source": [
    "from langchain.chains import create_retrieval_chain\n",
    "retrieval_chain = create_retrieval_chain(retriever,document_chain)"
   ]
  },
  {
   "cell_type": "code",
   "execution_count": 17,
   "metadata": {},
   "outputs": [],
   "source": [
    "response = retrieval_chain.invoke({\"input\" : \"medicine for cough\"})"
   ]
  },
  {
   "cell_type": "code",
   "execution_count": 18,
   "metadata": {},
   "outputs": [
    {
     "data": {
      "text/plain": [
       "{'input': 'medicine for cough',\n",
       " 'context': [Document(page_content='sants, do not stop the cough. Instead they are used to thinthe mucus in the lungs, making it easier to cough up. Thistype of cough medicine may be helpful to individuals suf-fering from bronchitis. People who are unsure about whatKEY TERMS\\nAcute —Disease or condition characterized by the\\nrapid onset of severe symptoms.\\nBronchi —The larger air tubes of the lung that\\nbring air in from the trachea.\\nChronic —Disease or condition characterized by\\nslow onset over a long period of time.'),\n",
       "  Document(page_content='Home care includes drinking plenty of fluids, resting, notsmoking, increasing moisture in the air with a cool misthumidifier, and taking acetaminophen (Datril, Tylenol,\\nPanadol) for fever and pain . Aspirin should not be given\\nto children because of its association with the serious ill-ness, Reye’s syndrome .\\nCough suppressants are used only when the cough'),\n",
       "  Document(page_content='serious if it progresses to pneumonia, therefore, antibi-otics may be required. In addition, however, there are amultitude of botanical and herbal medicines that can beformulated to treat bronchitis. Some examples includeinhaling eucalyptus or other essential oils in warm steam.Herbalists recommend a tea made of mullein ( Verbascum\\nthapsus ), coltsfoot ( Tussilago farfara ), and anise seed\\n(Pimpinella anisum ). Homeopathic medicine and tradi-\\ntional Chinese medicine may also be very useful for'),\n",
       "  Document(page_content='addition to its role in reducing allergic reactions, may be\\nused as a nighttime sedative, for control of drug-inducedParkinsonism, and, in liquid form, for control of coughs.Consult more detailed references for further information.\\nThe second generation antihistamines have no cen-')],\n",
       " 'answer': 'For a bronchitis-related cough, consider using a medicine that thins the mucus in the lungs instead of stopping the cough. Home care remedies include drinking plenty of fluids, resting, avoiding smoking, using a cool mist humidifier, and taking acetaminophen for fever and pain. Although cough suppressants are typically used only for severe coughs, homeopathic medicine, traditional Chinese medicine, and certain herbal teas (such as mullein, coltsfoot, and anise seed) may provide relief. Additionally, diphenhydramine (an example of a first-generation antihistamine) can help with cough control, especially at night. Consult detailed references for more information.'}"
      ]
     },
     "execution_count": 18,
     "metadata": {},
     "output_type": "execute_result"
    }
   ],
   "source": [
    "response"
   ]
  },
  {
   "cell_type": "code",
   "execution_count": 19,
   "metadata": {},
   "outputs": [
    {
     "name": "stdout",
     "output_type": "stream",
     "text": [
      "For a bronchitis-related cough, consider using a medicine that thins the mucus in the lungs instead of stopping the cough. Home care remedies include drinking plenty of fluids, resting, avoiding smoking, using a cool mist humidifier, and taking acetaminophen for fever and pain. Although cough suppressants are typically used only for severe coughs, homeopathic medicine, traditional Chinese medicine, and certain herbal teas (such as mullein, coltsfoot, and anise seed) may provide relief. Additionally, diphenhydramine (an example of a first-generation antihistamine) can help with cough control, especially at night. Consult detailed references for more information.\n"
     ]
    }
   ],
   "source": [
    "print(response['answer'])"
   ]
  },
  {
   "cell_type": "code",
   "execution_count": null,
   "metadata": {},
   "outputs": [],
   "source": []
  }
 ],
 "metadata": {
  "kernelspec": {
   "display_name": "chatbot",
   "language": "python",
   "name": "python3"
  },
  "language_info": {
   "codemirror_mode": {
    "name": "ipython",
    "version": 3
   },
   "file_extension": ".py",
   "mimetype": "text/x-python",
   "name": "python",
   "nbconvert_exporter": "python",
   "pygments_lexer": "ipython3",
   "version": "3.10.2"
  }
 },
 "nbformat": 4,
 "nbformat_minor": 2
}
